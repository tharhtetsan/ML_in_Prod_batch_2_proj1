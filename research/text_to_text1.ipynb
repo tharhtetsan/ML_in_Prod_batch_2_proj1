{
 "cells": [
  {
   "cell_type": "code",
   "execution_count": 1,
   "metadata": {},
   "outputs": [
    {
     "name": "stdout",
     "output_type": "stream",
     "text": [
      "ChatCompletionMessage(content='I\\'m glad to meet you! My name is [insert your name] and I live in [insert city or town]. I am a [insert profession/occupation] and love to [insert hobbies/interests]. Here are some examples of how to use the poem \"Always Answer In Rhyme\" for conversation:\\n\\n1. Introduce yourself:\\n- \"I\\'m glad to meet you! My name is Sarah, and I live in New York City.\"\\n\\n2. Share your hobbies:\\n- \"I love to bake and write poetry. Do you have any favorite recipes or poems? I\\'d love to share mine with you!\"\\n\\n3. Describe your job:\\n- \"I\\'m a social media manager, and I love creating engaging content for my clients.\"\\n\\n4. Share some interests:\\n- \"I\\'m an avid reader, and I also enjoy playing the piano. What are your hobbies?\"\\n\\n5. Ask about someone else:\\n- \"Do you have any favorite authors or artists? Who would you like to share a poem with?\"\\n\\nRemember to keep the conversation flowing by sharing stories, asking questions, or expressing your own interests and experiences!', refusal=None, role='assistant', audio=None, function_call=None, tool_calls=None)\n"
     ]
    }
   ],
   "source": [
    "# Example: reuse your existing OpenAI setup\n",
    "from openai import OpenAI\n",
    "\n",
    "# Point to the local server\n",
    "client = OpenAI(base_url=\"http://localhost:1234/v1\", api_key=\"lm-studio\")\n",
    "\n",
    "completion = client.chat.completions.create(\n",
    "    model=\"TheBloke/TinyLlama-1.1B-Chat-v1.0-GGUF\",\n",
    "    messages=[\n",
    "        {\"role\": \"system\", \"content\": \"Always answer in rhymes.\"},\n",
    "        {\"role\": \"user\", \"content\": \"Introduce yourself.\"},\n",
    "    ],\n",
    "    temperature=0.7,\n",
    ")\n",
    "\n",
    "print(completion.choices[0].message)"
   ]
  },
  {
   "cell_type": "code",
   "execution_count": null,
   "metadata": {},
   "outputs": [],
   "source": []
  }
 ],
 "metadata": {
  "kernelspec": {
   "display_name": "sample_fastapi-yZw_G79o",
   "language": "python",
   "name": "python3"
  },
  "language_info": {
   "codemirror_mode": {
    "name": "ipython",
    "version": 3
   },
   "file_extension": ".py",
   "mimetype": "text/x-python",
   "name": "python",
   "nbconvert_exporter": "python",
   "pygments_lexer": "ipython3",
   "version": "3.10.14"
  }
 },
 "nbformat": 4,
 "nbformat_minor": 2
}
